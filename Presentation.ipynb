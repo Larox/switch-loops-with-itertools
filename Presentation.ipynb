{
 "cells": [
  {
   "cell_type": "markdown",
   "id": "ff124e19",
   "metadata": {
    "slideshow": {
     "slide_type": "slide"
    }
   },
   "source": [
    "# Switch loops with iterTools"
   ]
  },
  {
   "cell_type": "markdown",
   "id": "c07fb6e6",
   "metadata": {
    "slideshow": {
     "slide_type": "slide"
    }
   },
   "source": [
    "## Iterables and iterators\n"
   ]
  },
  {
   "cell_type": "markdown",
   "id": "95647d51",
   "metadata": {
    "slideshow": {
     "slide_type": "slide"
    }
   },
   "source": [
    "### What is an Iterable?\n",
    "\n",
    "- Is an object which can iterate over - return it's members one at the time\n",
    "- Lists, Tuples, Dictionaries are iterables - Iterable containers\n",
    "- Iterables implement `__iter__()` method \n",
    "- Generates an *iterator* when passed to `iter()`"
   ]
  },
  {
   "cell_type": "code",
   "execution_count": 36,
   "id": "6e61693f",
   "metadata": {
    "slideshow": {
     "slide_type": "subslide"
    }
   },
   "outputs": [
    {
     "name": "stdout",
     "output_type": "stream",
     "text": [
      "is iterable? - True\n"
     ]
    }
   ],
   "source": [
    "jedis_iterable = [\"Obi-Wan Kenobi\", \"Anakin Skywalker\", \"Mace Windu\"]  # List\n",
    "\n",
    "print(f\"is iterable? - {hasattr(jedis_iterable, '__iter__')}\")\n"
   ]
  },
  {
   "cell_type": "markdown",
   "id": "95dcdd1f",
   "metadata": {
    "slideshow": {
     "slide_type": "slide"
    }
   },
   "source": [
    "### What is an Iterator?\n",
    "- Objects which is use to iterate over an *iterable* using `next()`\n",
    "- This objects implement the method `__next__()` \n",
    "- `__next__()` returns the next item of the object"
   ]
  },
  {
   "cell_type": "code",
   "execution_count": 37,
   "id": "1fe6ef10",
   "metadata": {
    "slideshow": {
     "slide_type": "subslide"
    }
   },
   "outputs": [
    {
     "ename": "TypeError",
     "evalue": "'list' object is not an iterator",
     "output_type": "error",
     "traceback": [
      "\u001b[0;31m---------------------------------------------------------------------------\u001b[0m",
      "\u001b[0;31mTypeError\u001b[0m                                 Traceback (most recent call last)",
      "Input \u001b[0;32mIn [37]\u001b[0m, in \u001b[0;36m<cell line: 1>\u001b[0;34m()\u001b[0m\n\u001b[0;32m----> 1\u001b[0m \u001b[38;5;28mprint\u001b[39m(\u001b[38;5;28;43mnext\u001b[39;49m\u001b[43m(\u001b[49m\u001b[43mjedis_iterable\u001b[49m\u001b[43m)\u001b[49m)\n",
      "\u001b[0;31mTypeError\u001b[0m: 'list' object is not an iterator"
     ]
    }
   ],
   "source": [
    "print(next(jedis_iterable))"
   ]
  },
  {
   "cell_type": "code",
   "execution_count": 38,
   "id": "6a888fb2",
   "metadata": {
    "scrolled": true,
    "slideshow": {
     "slide_type": "fragment"
    }
   },
   "outputs": [
    {
     "name": "stdout",
     "output_type": "stream",
     "text": [
      "Obi-Wan Kenobi\n"
     ]
    }
   ],
   "source": [
    "jedis_iterator = iter(jedis_iterable)\n",
    "print(next(jedis_iterator))"
   ]
  },
  {
   "cell_type": "markdown",
   "id": "984cec35",
   "metadata": {
    "slideshow": {
     "slide_type": "slide"
    }
   },
   "source": [
    "## Are all Iterables iterators?\n"
   ]
  },
  {
   "cell_type": "markdown",
   "id": "b9554b11",
   "metadata": {
    "slideshow": {
     "slide_type": "fragment"
    }
   },
   "source": [
    "**Every iterator is also an iterable**, *but not every iterable is an iterator*"
   ]
  },
  {
   "cell_type": "markdown",
   "id": "c82d3d84",
   "metadata": {
    "slideshow": {
     "slide_type": "fragment"
    }
   },
   "source": [
    "`List` is an **iterable**, but not an *iterator*"
   ]
  },
  {
   "cell_type": "markdown",
   "id": "ff25257c",
   "metadata": {
    "slideshow": {
     "slide_type": "fragment"
    }
   },
   "source": [
    "An *iterator* can be created by an iterable using `iter()`"
   ]
  },
  {
   "cell_type": "code",
   "execution_count": null,
   "id": "64c66686",
   "metadata": {
    "slideshow": {
     "slide_type": "slide"
    }
   },
   "outputs": [],
   "source": []
  }
 ],
 "metadata": {
  "celltoolbar": "Slideshow",
  "kernelspec": {
   "display_name": "Python 3 (ipykernel)",
   "language": "python",
   "name": "python3"
  },
  "language_info": {
   "codemirror_mode": {
    "name": "ipython",
    "version": 3
   },
   "file_extension": ".py",
   "mimetype": "text/x-python",
   "name": "python",
   "nbconvert_exporter": "python",
   "pygments_lexer": "ipython3",
   "version": "3.10.3"
  }
 },
 "nbformat": 4,
 "nbformat_minor": 5
}
