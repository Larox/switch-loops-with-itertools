{
 "cells": [
  {
   "cell_type": "markdown",
   "id": "ff124e19",
   "metadata": {
    "slideshow": {
     "slide_type": "slide"
    }
   },
   "source": [
    "# Switch loops with iterTools\n",
    "\n",
    "\n",
    "by:  Sebastian Arias T.\n",
    "\n"
   ]
  },
  {
   "cell_type": "markdown",
   "id": "c07fb6e6",
   "metadata": {
    "slideshow": {
     "slide_type": "slide"
    }
   },
   "source": [
    "## Iterables and iterators\n"
   ]
  },
  {
   "cell_type": "markdown",
   "id": "95647d51",
   "metadata": {
    "slideshow": {
     "slide_type": "slide"
    }
   },
   "source": [
    "### What is an Iterable?"
   ]
  },
  {
   "cell_type": "markdown",
   "id": "9481a508",
   "metadata": {
    "slideshow": {
     "slide_type": "fragment"
    }
   },
   "source": [
    "Is an object which can iterate over - return it's members one at the time"
   ]
  },
  {
   "cell_type": "markdown",
   "id": "9fec56ee",
   "metadata": {
    "slideshow": {
     "slide_type": "fragment"
    }
   },
   "source": [
    "Lists, Tuples, Dictionaries are iterables - Iterable containers"
   ]
  },
  {
   "cell_type": "markdown",
   "id": "a18d55cf",
   "metadata": {
    "slideshow": {
     "slide_type": "fragment"
    }
   },
   "source": [
    "Iterables implement `__iter__()` method"
   ]
  },
  {
   "cell_type": "markdown",
   "id": "62bccaee",
   "metadata": {
    "slideshow": {
     "slide_type": "fragment"
    }
   },
   "source": [
    "Generates an *iterator* when passed to `iter()`"
   ]
  },
  {
   "cell_type": "code",
   "execution_count": 125,
   "id": "6e61693f",
   "metadata": {
    "slideshow": {
     "slide_type": "subslide"
    }
   },
   "outputs": [
    {
     "name": "stdout",
     "output_type": "stream",
     "text": [
      "is iterable? - True\n"
     ]
    }
   ],
   "source": [
    "jedis_iterable = [\"Obi-Wan Kenobi\", \"Anakin Skywalker\", \"Mace Windu\"]  # List\n",
    "\n",
    "print(f\"is iterable? - {hasattr(jedis_iterable, '__iter__')}\")\n",
    " "
   ]
  },
  {
   "cell_type": "markdown",
   "id": "95dcdd1f",
   "metadata": {
    "slideshow": {
     "slide_type": "slide"
    }
   },
   "source": [
    "### What is an Iterator?"
   ]
  },
  {
   "cell_type": "markdown",
   "id": "418e5297",
   "metadata": {
    "slideshow": {
     "slide_type": "fragment"
    }
   },
   "source": [
    "Objects which is use to iterate over an *iterable* using `next()`"
   ]
  },
  {
   "cell_type": "markdown",
   "id": "c741ebfe",
   "metadata": {
    "slideshow": {
     "slide_type": "fragment"
    }
   },
   "source": [
    "This objects implement the method `__next__()` "
   ]
  },
  {
   "cell_type": "markdown",
   "id": "d8970400",
   "metadata": {
    "slideshow": {
     "slide_type": "fragment"
    }
   },
   "source": [
    "`__next__()` returns the next item of the object"
   ]
  },
  {
   "cell_type": "markdown",
   "id": "ca77b429",
   "metadata": {
    "slideshow": {
     "slide_type": "fragment"
    }
   },
   "source": [
    "When no more items, it raises `StopIteration` exception"
   ]
  },
  {
   "cell_type": "code",
   "execution_count": 126,
   "id": "1fe6ef10",
   "metadata": {
    "slideshow": {
     "slide_type": "subslide"
    }
   },
   "outputs": [
    {
     "ename": "TypeError",
     "evalue": "'list' object is not an iterator",
     "output_type": "error",
     "traceback": [
      "\u001b[0;31m---------------------------------------------------------------------------\u001b[0m",
      "\u001b[0;31mTypeError\u001b[0m                                 Traceback (most recent call last)",
      "Input \u001b[0;32mIn [126]\u001b[0m, in \u001b[0;36m<cell line: 1>\u001b[0;34m()\u001b[0m\n\u001b[0;32m----> 1\u001b[0m \u001b[38;5;28mprint\u001b[39m(\u001b[38;5;28;43mnext\u001b[39;49m\u001b[43m(\u001b[49m\u001b[43mjedis_iterable\u001b[49m\u001b[43m)\u001b[49m)\n",
      "\u001b[0;31mTypeError\u001b[0m: 'list' object is not an iterator"
     ]
    }
   ],
   "source": [
    "print(next(jedis_iterable))"
   ]
  },
  {
   "cell_type": "code",
   "execution_count": 127,
   "id": "6a888fb2",
   "metadata": {
    "scrolled": true,
    "slideshow": {
     "slide_type": "fragment"
    }
   },
   "outputs": [
    {
     "name": "stdout",
     "output_type": "stream",
     "text": [
      "Obi-Wan Kenobi\n"
     ]
    }
   ],
   "source": [
    "jedis_iterator = iter(jedis_iterable)\n",
    "print(next(jedis_iterator))"
   ]
  },
  {
   "cell_type": "markdown",
   "id": "984cec35",
   "metadata": {
    "slideshow": {
     "slide_type": "slide"
    }
   },
   "source": [
    "## Are all Iterables iterators?\n"
   ]
  },
  {
   "cell_type": "markdown",
   "id": "6fbe0904",
   "metadata": {
    "slideshow": {
     "slide_type": "fragment"
    }
   },
   "source": [
    "**Every iterator is also an iterable**, *but not every iterable is an iterator*"
   ]
  },
  {
   "cell_type": "markdown",
   "id": "c82d3d84",
   "metadata": {
    "slideshow": {
     "slide_type": "fragment"
    }
   },
   "source": [
    "`List` is an **iterable**, but not an *iterator*"
   ]
  },
  {
   "cell_type": "markdown",
   "id": "ff25257c",
   "metadata": {
    "slideshow": {
     "slide_type": "fragment"
    }
   },
   "source": [
    "An *iterator* can be created by an iterable using `iter()`"
   ]
  },
  {
   "cell_type": "markdown",
   "id": "4a260c1e",
   "metadata": {
    "slideshow": {
     "slide_type": "slide"
    }
   },
   "source": [
    "## What are itertools?"
   ]
  },
  {
   "cell_type": "markdown",
   "id": "cf887865",
   "metadata": {
    "slideshow": {
     "slide_type": "fragment"
    }
   },
   "source": [
    "Module that implements `iterator` building blocks - functions\n"
   ]
  },
  {
   "cell_type": "markdown",
   "id": "48185984",
   "metadata": {
    "slideshow": {
     "slide_type": "fragment"
    }
   },
   "source": [
    "It is inspired by constructs from languages like *Haskell*, *APL* and *SML*"
   ]
  },
  {
   "cell_type": "markdown",
   "id": "81cbba7c",
   "metadata": {
    "slideshow": {
     "slide_type": "fragment"
    }
   },
   "source": [
    "This blocks were recasted to be suitable for Python\n"
   ]
  },
  {
   "cell_type": "markdown",
   "id": "a44fe222",
   "metadata": {
    "slideshow": {
     "slide_type": "fragment"
    }
   },
   "source": [
    "This module is part of Python"
   ]
  },
  {
   "cell_type": "markdown",
   "id": "0677c8aa",
   "metadata": {
    "slideshow": {
     "slide_type": "fragment"
    }
   },
   "source": [
    " It is used to iterate over data structures (iterables) that can be stepped over using a **for-loop**"
   ]
  },
  {
   "cell_type": "markdown",
   "id": "e3c14f6e",
   "metadata": {
    "slideshow": {
     "slide_type": "slide"
    }
   },
   "source": [
    "## Most Used Itertools (in my experience) Overview\n",
    "\n"
   ]
  },
  {
   "cell_type": "markdown",
   "id": "83f7aa2f",
   "metadata": {
    "cell_style": "center",
    "slideshow": {
     "slide_type": "slide"
    }
   },
   "source": [
    "### itertools.chain(*iterables)\n",
    "\n",
    "Returns the elements from the first iterable until it is exhausted, then continues with the next until there are no more iterables"
   ]
  },
  {
   "cell_type": "code",
   "execution_count": 88,
   "id": "9a6d1f33",
   "metadata": {
    "cell_style": "center",
    "slideshow": {
     "slide_type": "subslide"
    }
   },
   "outputs": [
    {
     "name": "stdout",
     "output_type": "stream",
     "text": [
      "O\n",
      "b\n",
      "i\n"
     ]
    }
   ],
   "source": [
    "def my_chain(*iterables):\n",
    "    for iterable in iterables:\n",
    "        for elem in iterable:\n",
    "            yield elem\n",
    "\n",
    "            \n",
    "it = my_chain('Obi', 'Wan')\n",
    "\n",
    "print(next(it))\n",
    "print(next(it))\n",
    "print(next(it))"
   ]
  },
  {
   "cell_type": "code",
   "execution_count": 89,
   "id": "d25806ff",
   "metadata": {
    "cell_style": "center",
    "slideshow": {
     "slide_type": "fragment"
    }
   },
   "outputs": [
    {
     "name": "stdout",
     "output_type": "stream",
     "text": [
      "O\n",
      "b\n",
      "i\n",
      "W\n",
      "a\n",
      "n\n"
     ]
    }
   ],
   "source": [
    "from itertools import chain\n",
    "\n",
    "it = chain('Obi', 'Wan')\n",
    "\n",
    "print(next(it))\n",
    "print(next(it))\n",
    "print(next(it))\n",
    "print(next(it))\n",
    "print(next(it))\n",
    "print(next(it))"
   ]
  },
  {
   "cell_type": "markdown",
   "id": "8e4dccc5",
   "metadata": {
    "cell_style": "center",
    "slideshow": {
     "slide_type": "subslide"
    }
   },
   "source": [
    "### itertools.chain.from_iterable(iterable)\n",
    "Like `chain` but with elements from an iterable"
   ]
  },
  {
   "cell_type": "code",
   "execution_count": 90,
   "id": "f712bbd3",
   "metadata": {
    "cell_style": "center",
    "slideshow": {
     "slide_type": "fragment"
    }
   },
   "outputs": [
    {
     "name": "stdout",
     "output_type": "stream",
     "text": [
      "O\n",
      "b\n",
      "i\n"
     ]
    }
   ],
   "source": [
    "from itertools import chain\n",
    "\n",
    "from_it = chain.from_iterable(['Obi', 'Wan'])\n",
    "\n",
    "print(next(from_it))\n",
    "print(next(from_it))\n",
    "print(next(from_it))"
   ]
  },
  {
   "cell_type": "markdown",
   "id": "35db30cd",
   "metadata": {
    "slideshow": {
     "slide_type": "slide"
    }
   },
   "source": [
    "### itertools.compress(data, selector)\n",
    "\n",
    "Filters elements from *data* that have a corresponding `True` element in *selector* finish when *data* or *selector* are exahusted"
   ]
  },
  {
   "cell_type": "code",
   "execution_count": 91,
   "id": "093e901a",
   "metadata": {
    "slideshow": {
     "slide_type": "fragment"
    }
   },
   "outputs": [
    {
     "name": "stdout",
     "output_type": "stream",
     "text": [
      "Grievous\n",
      "Doku\n"
     ]
    }
   ],
   "source": [
    "from itertools import compress\n",
    "\n",
    "clone_wars_generals = [\"Obi-Wan\", \"Grievous\", \"Anakin\",\"Doku\", \"Mace Windu\"]\n",
    "is_separatist = [False, True, False, True, False]\n",
    "\n",
    "separatist_generals = compress(clone_wars_generals, is_separatist)\n",
    "\n",
    "\n",
    "print(next(separatist_generals))\n",
    "print(next(separatist_generals))"
   ]
  },
  {
   "cell_type": "markdown",
   "id": "e1367e0a",
   "metadata": {
    "slideshow": {
     "slide_type": "slide"
    }
   },
   "source": [
    "### itertools.filterfalse(predicate, iterable)\n",
    "\n",
    "Create an iterator that drops elements as long as the predicate is `False`"
   ]
  },
  {
   "cell_type": "code",
   "execution_count": 92,
   "id": "e8d5798d",
   "metadata": {
    "slideshow": {
     "slide_type": "fragment"
    }
   },
   "outputs": [
    {
     "name": "stdout",
     "output_type": "stream",
     "text": [
      "5\n",
      "6\n",
      "7\n",
      "8\n"
     ]
    }
   ],
   "source": [
    "from itertools import filterfalse\n",
    "\n",
    "foo = [1,2,3,4,5,6,7,8,9,10]\n",
    "res = filterfalse(lambda x: x<5, foo)\n",
    "\n",
    "print(next(res))\n",
    "print(next(res))\n",
    "print(next(res))\n",
    "print(next(res))"
   ]
  },
  {
   "cell_type": "markdown",
   "id": "ec742d01",
   "metadata": {
    "slideshow": {
     "slide_type": "slide"
    }
   },
   "source": [
    "### itertools.groupby(iterable, key)\n",
    "Calculates the keys for each element present in iterable, and returns the key and iterable of grouped items.\n",
    "\n",
    "*Note: Elements must be sorted to prevent repeated keys*"
   ]
  },
  {
   "cell_type": "code",
   "execution_count": 7,
   "id": "e7b6f3b9",
   "metadata": {
    "cell_style": "center",
    "slideshow": {
     "slide_type": "fragment"
    }
   },
   "outputs": [
    {
     "name": "stdout",
     "output_type": "stream",
     "text": [
      "[\"A: ['A', 'A', 'A', 'A']\", \"B: ['B', 'B', 'B']\", \"C: ['C', 'C']\", \"D: ['D']\", \"A: ['A', 'A']\", \"B: ['B', 'B', 'B']\"]\n"
     ]
    }
   ],
   "source": [
    "from itertools import groupby\n",
    "\n",
    "iterable = 'AAAABBBCCDAABBB'\n",
    "\n",
    "res = groupby(iterable)\n",
    "print([f\"{k}: {list(g)}\" for k,g in res])"
   ]
  },
  {
   "cell_type": "code",
   "execution_count": 8,
   "id": "445f504d",
   "metadata": {
    "cell_style": "center",
    "slideshow": {
     "slide_type": "subslide"
    }
   },
   "outputs": [
    {
     "name": "stdout",
     "output_type": "stream",
     "text": [
      "[\"republic: [('republic', 'Obi-Wan'), ('republic', 'Anakin')]\", \"separatists: [('separatists', 'Count Doku'), ('separatists', 'Grievous')]\"]\n"
     ]
    }
   ],
   "source": [
    "from itertools import groupby\n",
    "\n",
    "star_wars_generals = [\n",
    "    (\"republic\", \"Obi-Wan\"), \n",
    "    (\"republic\",\"Anakin\"),\n",
    "    (\"separatists\", \"Count Doku\"),\n",
    "    (\"separatists\", \"Grievous\")\n",
    "]\n",
    "\n",
    "group_by_result = groupby(\n",
    "    star_wars_generals, \n",
    "    lambda x: x[0]\n",
    ")\n",
    "\n",
    "print([f\"{k}: {list(g)}\" for k, g in group_by_result])"
   ]
  },
  {
   "cell_type": "markdown",
   "id": "2f24f46f",
   "metadata": {
    "slideshow": {
     "slide_type": "slide"
    }
   },
   "source": [
    "### itertools.starmap(function, iterable)\n",
    "Make an iterator that computes the function using arguments obtained from the iterable"
   ]
  },
  {
   "cell_type": "code",
   "execution_count": 31,
   "id": "2664d758",
   "metadata": {
    "slideshow": {
     "slide_type": "fragment"
    }
   },
   "outputs": [
    {
     "name": "stdout",
     "output_type": "stream",
     "text": [
      "[True, False, True]\n"
     ]
    }
   ],
   "source": [
    "from itertools import starmap\n",
    "\n",
    "data = [(2, 3, 2), (5, 3, 2), (4, 3, 6)] \n",
    "\n",
    "def is_multiple(a, b, c):\n",
    "    return (a * b) % c == 0\n",
    "\n",
    "print([res for res in starmap(is_multiple, data)])\n",
    "\n"
   ]
  },
  {
   "cell_type": "markdown",
   "id": "48de65dc",
   "metadata": {
    "slideshow": {
     "slide_type": "slide"
    }
   },
   "source": [
    "## Aplication of Itertools In Real Life Scenarios\n",
    "\n"
   ]
  },
  {
   "cell_type": "markdown",
   "id": "6759d7ea",
   "metadata": {
    "slideshow": {
     "slide_type": "slide"
    }
   },
   "source": [
    "## Flatten Lists"
   ]
  },
  {
   "cell_type": "code",
   "execution_count": 128,
   "id": "a7857265",
   "metadata": {
    "cell_style": "center",
    "slideshow": {
     "slide_type": "fragment"
    }
   },
   "outputs": [
    {
     "name": "stdout",
     "output_type": "stream",
     "text": [
      "['Option1', 'Option2', 'Option3', 'SubOption1', 'SubOption2', 'SubOption3']\n"
     ]
    },
    {
     "data": {
      "text/plain": [
       "0.012956832997588208"
      ]
     },
     "execution_count": 128,
     "metadata": {},
     "output_type": "execute_result"
    }
   ],
   "source": [
    "import timeit\n",
    "\n",
    "data_list = [\n",
    "    [\"Option1\", \"Option2\", \"Option3\"], \n",
    "    [\"SubOption1\", \"SubOption2\", \"SubOption3\"]\n",
    "]\n",
    "\n",
    "def flatten_list():\n",
    "    flat_list = list()\n",
    "    for element in data_list:\n",
    "        for item in element:\n",
    "            flat_list.append(item)\n",
    "    return flat_list\n",
    "\n",
    "\n",
    "print(flatten_list())\n",
    "timeit.Timer(flatten_list).timeit(number=10000)"
   ]
  },
  {
   "cell_type": "code",
   "execution_count": 129,
   "id": "f40f87f4",
   "metadata": {
    "cell_style": "center",
    "slideshow": {
     "slide_type": "subslide"
    }
   },
   "outputs": [
    {
     "name": "stdout",
     "output_type": "stream",
     "text": [
      "['Option1', 'Option2', 'Option3', 'SubOption1', 'SubOption2', 'SubOption3']\n"
     ]
    },
    {
     "data": {
      "text/plain": [
       "0.012962374999915482"
      ]
     },
     "execution_count": 129,
     "metadata": {},
     "output_type": "execute_result"
    }
   ],
   "source": [
    "import timeit\n",
    "\n",
    "def flatten_list_comp():\n",
    "    return [\n",
    "        item for elem in data_list \n",
    "        for item in elem\n",
    "    ]\n",
    "\n",
    "\n",
    "print(flatten_list_comp())\n",
    "timeit.Timer(flatten_list_comp).timeit(number=10000)"
   ]
  },
  {
   "cell_type": "code",
   "execution_count": 130,
   "id": "d68a8d45",
   "metadata": {
    "cell_style": "center",
    "slideshow": {
     "slide_type": "fragment"
    }
   },
   "outputs": [
    {
     "name": "stdout",
     "output_type": "stream",
     "text": [
      "[['Option1', 'Option2', 'Option3'], ['SubOption1', 'SubOption2', 'SubOption3']]\n"
     ]
    },
    {
     "data": {
      "text/plain": [
       "0.008991541999421315"
      ]
     },
     "execution_count": 130,
     "metadata": {},
     "output_type": "execute_result"
    }
   ],
   "source": [
    "from itertools import chain\n",
    "\n",
    "def flatten_list_it():\n",
    "    return list(chain(data_list))\n",
    "\n",
    " \n",
    "print(flatten_list_it())\n",
    "timeit.Timer(flatten_list_it).timeit(number=10000)"
   ]
  },
  {
   "cell_type": "markdown",
   "id": "5a79afe3",
   "metadata": {
    "slideshow": {
     "slide_type": "slide"
    }
   },
   "source": [
    "## Casting Data"
   ]
  },
  {
   "cell_type": "code",
   "execution_count": 106,
   "id": "5bd3a039",
   "metadata": {
    "cell_style": "center",
    "slideshow": {
     "slide_type": "fragment"
    }
   },
   "outputs": [
    {
     "name": "stdout",
     "output_type": "stream",
     "text": [
      "[12, 34, 63, 190]\n",
      "299\n"
     ]
    },
    {
     "data": {
      "text/plain": [
       "0.015379958998892107"
      ]
     },
     "execution_count": 106,
     "metadata": {},
     "output_type": "execute_result"
    }
   ],
   "source": [
    "# Convert String to number\n",
    "string_list = ['12', '34', '63', '190']\n",
    "\n",
    "number_list = list()\n",
    "\n",
    "def cast_string_to_number():\n",
    "    for item in string_list:\n",
    "        number_list.append(int(item))\n",
    "    return number_list\n",
    "\n",
    "print(cast_string_to_number())\n",
    "print(sum(number_list))\n",
    "\n",
    "timeit.Timer(cast_string_to_number).timeit(number=10000)"
   ]
  },
  {
   "cell_type": "code",
   "execution_count": 107,
   "id": "cec309b8",
   "metadata": {
    "cell_style": "center",
    "slideshow": {
     "slide_type": "subslide"
    }
   },
   "outputs": [
    {
     "name": "stdout",
     "output_type": "stream",
     "text": [
      "299\n"
     ]
    },
    {
     "data": {
      "text/plain": [
       "0.017880916999274632"
      ]
     },
     "execution_count": 107,
     "metadata": {},
     "output_type": "execute_result"
    }
   ],
   "source": [
    "def cast_string_to_number_comp() -> list:\n",
    "    return [int(item) for item in string_list]\n",
    "\n",
    "print(sum(cast_string_to_number_comp()))\n",
    "\n",
    "timeit.Timer(cast_string_to_number_comp).timeit(number=10000)"
   ]
  },
  {
   "cell_type": "code",
   "execution_count": 109,
   "id": "90a384e7",
   "metadata": {
    "slideshow": {
     "slide_type": "fragment"
    }
   },
   "outputs": [
    {
     "name": "stdout",
     "output_type": "stream",
     "text": [
      "299\n"
     ]
    },
    {
     "data": {
      "text/plain": [
       "0.007473375000699889"
      ]
     },
     "execution_count": 109,
     "metadata": {},
     "output_type": "execute_result"
    }
   ],
   "source": [
    "from itertools import chain\n",
    "\n",
    "def cast_string_to_number_it():\n",
    "    return map(int, chain(string_list))\n",
    "\n",
    "print(sum(cast_string_to_number_it()))\n",
    "\n",
    "timeit.Timer(cast_string_to_number_it).timeit(number=10000)"
   ]
  },
  {
   "cell_type": "markdown",
   "id": "e7fe772f",
   "metadata": {
    "slideshow": {
     "slide_type": "slide"
    }
   },
   "source": [
    "## Data selection"
   ]
  },
  {
   "cell_type": "code",
   "execution_count": 112,
   "id": "e154bd28",
   "metadata": {
    "cell_style": "center",
    "slideshow": {
     "slide_type": "fragment"
    }
   },
   "outputs": [
    {
     "name": "stdout",
     "output_type": "stream",
     "text": [
      "['Tesla Model Y', 'AMG EQE53']\n"
     ]
    },
    {
     "data": {
      "text/plain": [
       "0.001532457999928738"
      ]
     },
     "execution_count": 112,
     "metadata": {},
     "output_type": "execute_result"
    }
   ],
   "source": [
    "car_models = [\n",
    "    \"Nissan GTR\", \n",
    "    \"Tesla Model Y\", \n",
    "    \"AMG EQE53\", \n",
    "    \"Toyota Supra\"\n",
    "]\n",
    "electric_cars_selector = [0, 1, 1, 0]\n",
    "\n",
    "def get_electric_car_models():\n",
    "    electric_cars = list()\n",
    "    for idx, car in enumerate(car_models):\n",
    "        if electric_cars_selector[idx]:\n",
    "            electric_cars.append(car)\n",
    "            \n",
    "    return electric_cars\n",
    "\n",
    "print(get_electric_car_models())\n",
    "\n",
    "timeit.Timer(get_electric_car_models).timeit(number=1000)        "
   ]
  },
  {
   "cell_type": "code",
   "execution_count": 111,
   "id": "3a38c3a8",
   "metadata": {
    "cell_style": "center",
    "slideshow": {
     "slide_type": "subslide"
    }
   },
   "outputs": [
    {
     "name": "stdout",
     "output_type": "stream",
     "text": [
      "['Tesla Model Y', 'AMG EQE53']\n"
     ]
    },
    {
     "data": {
      "text/plain": [
       "0.002179915998567594"
      ]
     },
     "execution_count": 111,
     "metadata": {},
     "output_type": "execute_result"
    }
   ],
   "source": [
    "def get_electric_car_models_comp():\n",
    "    return [car \n",
    "            for idx, car in enumerate(car_models) \n",
    "            if electric_cars_selector[idx]\n",
    "           ]\n",
    "\n",
    "print(get_electric_car_models_comp())\n",
    "timeit.Timer(get_electric_car_models_comp).timeit(number=1000)        "
   ]
  },
  {
   "cell_type": "code",
   "execution_count": 84,
   "id": "a1548767",
   "metadata": {
    "slideshow": {
     "slide_type": "fragment"
    }
   },
   "outputs": [
    {
     "name": "stdout",
     "output_type": "stream",
     "text": [
      "['Tesla Model Y', 'AMG EQE53']\n"
     ]
    },
    {
     "data": {
      "text/plain": [
       "0.00036404200000106357"
      ]
     },
     "execution_count": 84,
     "metadata": {},
     "output_type": "execute_result"
    }
   ],
   "source": [
    "from itertools import compress\n",
    "\n",
    "def get_electric_car_models_it():\n",
    "    return compress(car_models, electric_cars_selector)\n",
    "\n",
    "\n",
    "print(get_electric_car_models_comp())\n",
    "\n",
    "timeit.Timer(get_electric_car_models_it).timeit(number=1000)"
   ]
  },
  {
   "cell_type": "code",
   "execution_count": 114,
   "id": "4b6beb96",
   "metadata": {
    "slideshow": {
     "slide_type": "slide"
    }
   },
   "outputs": [],
   "source": [
    "cars_list = [\n",
    "    {\n",
    "        'brand': 'Nissan',\n",
    "        'model': 'GTR',\n",
    "        'is_electric': False,\n",
    "    },\n",
    "    {\n",
    "        'brand': 'Toyota',\n",
    "        'model': 'Supra',\n",
    "        'is_electric': False,\n",
    "    },\n",
    "    {\n",
    "        'brand': 'Tesla',\n",
    "        'model': 'Y',\n",
    "        'is_electric': True,\n",
    "    },\n",
    "    {\n",
    "        'brand': 'Mercedes',\n",
    "        'model': 'AMG EQE53',\n",
    "        'is_electric': True,\n",
    "    }\n",
    "]"
   ]
  },
  {
   "cell_type": "code",
   "execution_count": 113,
   "id": "1a7c4fec",
   "metadata": {
    "slideshow": {
     "slide_type": "subslide"
    }
   },
   "outputs": [
    {
     "name": "stdout",
     "output_type": "stream",
     "text": [
      "[{'brand': 'Nissan', 'model': 'GTR', 'is_electric': False}, {'brand': 'Toyota', 'model': 'Supra', 'is_electric': False}]\n"
     ]
    },
    {
     "data": {
      "text/plain": [
       "0.0014815829999861307"
      ]
     },
     "execution_count": 113,
     "metadata": {},
     "output_type": "execute_result"
    }
   ],
   "source": [
    "import timeit\n",
    "\n",
    "def get_non_electric_cars():\n",
    "    non_electric_cars = list()\n",
    "    for car in cars_list:\n",
    "        if not car['is_electric']:\n",
    "            non_electric_cars.append(car)\n",
    "            \n",
    "    return non_electric_cars\n",
    "\n",
    "print(get_non_electric_cars())\n",
    "\n",
    "timeit.Timer(get_non_electric_cars).timeit(number=1000)"
   ]
  },
  {
   "cell_type": "code",
   "execution_count": 79,
   "id": "94df5e01",
   "metadata": {
    "slideshow": {
     "slide_type": "fragment"
    }
   },
   "outputs": [
    {
     "name": "stdout",
     "output_type": "stream",
     "text": [
      "[{'brand': 'Nissan', 'model': 'GTR', 'is_electric': False}, {'brand': 'Toyota', 'model': 'Supra', 'is_electric': False}]\n"
     ]
    },
    {
     "data": {
      "text/plain": [
       "0.0008852920000208542"
      ]
     },
     "execution_count": 79,
     "metadata": {},
     "output_type": "execute_result"
    }
   ],
   "source": [
    "from itertools import filterfalse\n",
    "from collections.abc import Iterator\n",
    "\n",
    "def get_non_electric_cars_it() -> Iterator:\n",
    "    return filterfalse(lambda car: car['is_electric'], cars_list)\n",
    "\n",
    "print(list(get_non_electric_cars_it()))\n",
    "\n",
    "timeit.Timer(get_non_electric_cars_it).timeit(number=1000)"
   ]
  },
  {
   "cell_type": "markdown",
   "id": "009b1eee",
   "metadata": {
    "slideshow": {
     "slide_type": "slide"
    }
   },
   "source": [
    "## Data grouping"
   ]
  },
  {
   "cell_type": "code",
   "execution_count": 121,
   "id": "b2f3d639",
   "metadata": {
    "slideshow": {
     "slide_type": "subslide"
    }
   },
   "outputs": [],
   "source": [
    "import timeit\n",
    "\n",
    "pets_list = [\n",
    "    {\n",
    "        \"name\": \"Rocky\",\n",
    "        \"breed\": \"Akita\"\n",
    "    },\n",
    "    {\n",
    "        \"name\": \"Loki\",\n",
    "        \"breed\": \"Akita\"\n",
    "    },\n",
    "    {\n",
    "        \"name\": \"Legend\",\n",
    "        \"breed\": \"German Sheepard\"\n",
    "    },\n",
    "    {\n",
    "        \"name\": \"Lola\",\n",
    "        \"breed\": \"German Sheepard\"\n",
    "    },\n",
    "    {\n",
    "        \"name\": \"Duke\",\n",
    "        \"breed\": \"Golden Retriever\"\n",
    "    },\n",
    "    {\n",
    "        \"name\": \"Tucker\",\n",
    "        \"breed\": \"Golden Retriever\"\n",
    "    }\n",
    "]"
   ]
  },
  {
   "cell_type": "code",
   "execution_count": 122,
   "id": "6a3c254e",
   "metadata": {
    "cell_style": "center",
    "slideshow": {
     "slide_type": "subslide"
    }
   },
   "outputs": [
    {
     "name": "stdout",
     "output_type": "stream",
     "text": [
      "0.0028739579993271036\n",
      "[{'name': 'Legend', 'breed': 'German Sheepard'}, {'name': 'Lola', 'breed': 'German Sheepard'}]\n"
     ]
    }
   ],
   "source": [
    "import timeit\n",
    "\n",
    "def group_by_breed(pets_list: list, breed: str) -> list:\n",
    "    result_pets = list()\n",
    "    for pet in pets_list:\n",
    "        if pet['breed'] == breed:\n",
    "            result_pets.append(pet)\n",
    "    return result_pets\n",
    "\n",
    "t = timeit.Timer(\n",
    "    lambda: group_by_breed(pets_list, \"German Sheepard\")\n",
    ") \n",
    "print(t.timeit(number=1000))\n",
    "\n",
    "print(group_by_breed(pets_list, \"German Sheepard\"))"
   ]
  },
  {
   "cell_type": "code",
   "execution_count": 123,
   "id": "5c72a420",
   "metadata": {
    "cell_style": "center",
    "slideshow": {
     "slide_type": "subslide"
    }
   },
   "outputs": [
    {
     "name": "stdout",
     "output_type": "stream",
     "text": [
      "{'Akita': [{'name': 'Rocky', 'breed': 'Akita'}, {'name': 'Loki', 'breed': 'Akita'}], 'German Sheepard': [{'name': 'Legend', 'breed': 'German Sheepard'}, {'name': 'Lola', 'breed': 'German Sheepard'}], 'Golden Retriever': [{'name': 'Duke', 'breed': 'Golden Retriever'}, {'name': 'Tucker', 'breed': 'Golden Retriever'}]}\n",
      "---- German Sheepard ----\n",
      "[{'name': 'Legend', 'breed': 'German Sheepard'}, {'name': 'Lola', 'breed': 'German Sheepard'}]\n"
     ]
    },
    {
     "data": {
      "text/plain": [
       "0.0008665829991514329"
      ]
     },
     "execution_count": 123,
     "metadata": {},
     "output_type": "execute_result"
    }
   ],
   "source": [
    "import timeit\n",
    "from itertools import groupby\n",
    "from collections.abc import Iterator\n",
    "\n",
    "def group_by_type_it() -> Iterator:\n",
    "    return groupby(\n",
    "        pets_list, \n",
    "        lambda pet: pet[\"breed\"]\n",
    "    )\n",
    "\n",
    "grouped_pets_by_breeds = {\n",
    "    key: list(values) \n",
    "    for key, values in group_by_type_it()\n",
    "}\n",
    "\n",
    "print(grouped_pets_by_breeds)\n",
    "\n",
    "print(\"---- German Sheepard ----\")\n",
    "print(grouped_pets_by_breeds['German Sheepard'])\n",
    "\n",
    "\n",
    "\n",
    "timeit.Timer(group_by_type_it).timeit(number=1000)"
   ]
  },
  {
   "cell_type": "markdown",
   "id": "2ba1d617",
   "metadata": {
    "slideshow": {
     "slide_type": "slide"
    }
   },
   "source": [
    "## Mapping multiple arguments into functions"
   ]
  },
  {
   "cell_type": "code",
   "execution_count": 132,
   "id": "8fba2915",
   "metadata": {
    "cell_style": "center",
    "slideshow": {
     "slide_type": "subslide"
    }
   },
   "outputs": [
    {
     "name": "stdout",
     "output_type": "stream",
     "text": [
      "0.00482637499953853\n",
      "['APPL result: 140.0', 'TSLA result: 750.0', 'NDAQ result: -200.0']\n"
     ]
    }
   ],
   "source": [
    "from typing import NamedTuple\n",
    "\n",
    "class Stocks(NamedTuple):\n",
    "    stock: str\n",
    "    buy_price: float\n",
    "    shares: int\n",
    "    current_price: float\n",
    "\n",
    "\n",
    "stocks_i = [\n",
    "    Stocks('APPL', 130.00, 2, 200.00),\n",
    "    Stocks('TSLA', 400.00, 5, 550.00),\n",
    "    Stocks('NDAQ', 150.00, 4, 100.00),\n",
    "]\n",
    "\n",
    "def calculate_gain_loss() -> list:\n",
    "    results = list()\n",
    "    for stock in stocks_i:\n",
    "        buy_total = stock.shares * stock.buy_price\n",
    "        current_total = stock.shares * stock.current_price\n",
    "        gain_loss = current_total - buy_total\n",
    "        \n",
    "        results.append(f'{stock.stock} result: {gain_loss}')\n",
    "    return results\n",
    "\n",
    "print(timeit.Timer(calculate_gain_loss).timeit(1000))\n",
    "print(calculate_gain_loss())"
   ]
  },
  {
   "cell_type": "code",
   "execution_count": 86,
   "id": "c7014b2e",
   "metadata": {
    "cell_style": "center",
    "scrolled": true,
    "slideshow": {
     "slide_type": "subslide"
    }
   },
   "outputs": [
    {
     "name": "stdout",
     "output_type": "stream",
     "text": [
      "0.00033191700003953883\n",
      "['APPL result: 140.0', 'TSLA result: 750.0', 'NDAQ result: -200.0']\n"
     ]
    }
   ],
   "source": [
    "import timeit\n",
    "from itertools import starmap\n",
    "\n",
    "def calculate_gain_loss_it(stock: str, buy_price: float, shares: int, current_price: float) -> str:\n",
    "    buy_total = shares * buy_price\n",
    "    current_total = shares * current_price\n",
    "    gain_loss = current_total - buy_total\n",
    "\n",
    "    return f'{stock} result: {gain_loss}'\n",
    "\n",
    "print(timeit.Timer(lambda: starmap(calculate_gain_loss_it, stocks_i)).timeit(number=1000))\n",
    "\n",
    "print(list(starmap(calculate_gain_loss_it, stocks_i)))"
   ]
  },
  {
   "cell_type": "markdown",
   "id": "a872c652",
   "metadata": {
    "slideshow": {
     "slide_type": "slide"
    }
   },
   "source": [
    "## Itertools Composition Example"
   ]
  },
  {
   "cell_type": "code",
   "execution_count": 14,
   "id": "2c7e683b",
   "metadata": {
    "cell_style": "center",
    "slideshow": {
     "slide_type": "subslide"
    }
   },
   "outputs": [
    {
     "data": {
      "text/plain": [
       "[('APPL', 140.0), ('TSLA', 750.0)]"
      ]
     },
     "execution_count": 14,
     "metadata": {},
     "output_type": "execute_result"
    }
   ],
   "source": [
    "import timeit\n",
    "from itertools import starmap, compress, filterfalse\n",
    "from typing import NamedTuple\n",
    "\n",
    "class Stocks(NamedTuple):\n",
    "    stock: str\n",
    "    buy_price: float\n",
    "    shares: int\n",
    "    current_price: float\n",
    "\n",
    "\n",
    "stocks_i = [\n",
    "    Stocks('APPL', 130.00, 2, 200.00),\n",
    "    Stocks('TSLA', 400.00, 5, 550.00),\n",
    "    Stocks('NDAQ', 150.00, 4, 100.00),\n",
    "]\n",
    "\n",
    "def calculate_gain_loss_it(stock: str, buy_price: float, shares: int, current_price: float) -> str:\n",
    "    buy_total = shares * buy_price\n",
    "    current_total = shares * current_price\n",
    "    gain_loss = current_total - buy_total\n",
    "\n",
    "    return (stock, gain_loss)\n",
    "\n",
    "list(filterfalse(lambda x: x[1] < 0, starmap(calculate_gain_loss_it, stocks_i)))"
   ]
  },
  {
   "cell_type": "markdown",
   "id": "b8a5f56b",
   "metadata": {
    "slideshow": {
     "slide_type": "slide"
    }
   },
   "source": [
    "### Advantages of itertools\n",
    "\n"
   ]
  },
  {
   "cell_type": "markdown",
   "id": "aa7441f7",
   "metadata": {
    "cell_style": "center",
    "slideshow": {
     "slide_type": "fragment"
    }
   },
   "source": [
    "Fast, memory efficient funtions for iterators"
   ]
  },
  {
   "cell_type": "markdown",
   "id": "cda6b3e8",
   "metadata": {
    "slideshow": {
     "slide_type": "fragment"
    }
   },
   "source": [
    "Module functions can be used by themselves or in combination"
   ]
  },
  {
   "cell_type": "markdown",
   "id": "6514b083",
   "metadata": {
    "slideshow": {
     "slide_type": "fragment"
    }
   },
   "source": [
    "Good looking code 😎"
   ]
  },
  {
   "cell_type": "markdown",
   "id": "0cb434b5",
   "metadata": {
    "slideshow": {
     "slide_type": "slide"
    }
   },
   "source": [
    "### Disadvantages of itertools"
   ]
  },
  {
   "cell_type": "markdown",
   "id": "087352d0",
   "metadata": {
    "slideshow": {
     "slide_type": "fragment"
    }
   },
   "source": [
    "Get used on how to used it"
   ]
  },
  {
   "cell_type": "markdown",
   "id": "45b5e422",
   "metadata": {
    "slideshow": {
     "slide_type": "fragment"
    }
   },
   "source": [
    "Clear understanding of iterable and iterator "
   ]
  },
  {
   "cell_type": "markdown",
   "id": "d06b279a",
   "metadata": {
    "slideshow": {
     "slide_type": "slide"
    }
   },
   "source": [
    "### Conclusions"
   ]
  },
  {
   "cell_type": "markdown",
   "id": "3fcbb0a3",
   "metadata": {
    "slideshow": {
     "slide_type": "fragment"
    }
   },
   "source": [
    "Accomplished the refactor of confusing, hard to maintain loops into one-liners"
   ]
  },
  {
   "cell_type": "markdown",
   "id": "43baa191",
   "metadata": {
    "slideshow": {
     "slide_type": "fragment"
    }
   },
   "source": [
    "No more *how the program should do something*. Switched to *what the program should do something* without specifing the flow control"
   ]
  },
  {
   "cell_type": "markdown",
   "id": "97acc6de",
   "metadata": {
    "slideshow": {
     "slide_type": "fragment"
    }
   },
   "source": [
    "Thinking in a functional way. Now, we can combine the functions to achieve our goal!"
   ]
  },
  {
   "cell_type": "markdown",
   "id": "fe3a25be",
   "metadata": {
    "slideshow": {
     "slide_type": "fragment"
    }
   },
   "source": [
    "No side effects or unexpected behaviour of mutating variables in the loops!"
   ]
  },
  {
   "cell_type": "markdown",
   "id": "2771cd70",
   "metadata": {
    "slideshow": {
     "slide_type": "slide"
    }
   },
   "source": [
    "## Questions? "
   ]
  },
  {
   "cell_type": "markdown",
   "id": "5527c3de",
   "metadata": {
    "slideshow": {
     "slide_type": "slide"
    }
   },
   "source": [
    "# Thanks for your attention and keep coding! 👩‍💻👨‍💻🧑‍💻"
   ]
  },
  {
   "cell_type": "markdown",
   "id": "48acb1d7",
   "metadata": {
    "slideshow": {
     "slide_type": "slide"
    }
   },
   "source": [
    " "
   ]
  }
 ],
 "metadata": {
  "celltoolbar": "Slideshow",
  "kernelspec": {
   "display_name": "Python 3 (ipykernel)",
   "language": "python",
   "name": "python3"
  },
  "language_info": {
   "codemirror_mode": {
    "name": "ipython",
    "version": 3
   },
   "file_extension": ".py",
   "mimetype": "text/x-python",
   "name": "python",
   "nbconvert_exporter": "python",
   "pygments_lexer": "ipython3",
   "version": "3.10.3"
  },
  "livereveal": {
   "autolaunch": true
  },
  "rise": {
   "footer": "<img style='margin-left:25%' src='./media/SB_logo.svg'>"
  }
 },
 "nbformat": 4,
 "nbformat_minor": 5
}
